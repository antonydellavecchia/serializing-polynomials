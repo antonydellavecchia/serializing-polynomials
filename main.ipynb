{
 "cells": [
  {
   "cell_type": "code",
   "execution_count": 1,
   "metadata": {},
   "outputs": [
    {
     "name": "stdout",
     "output_type": "stream",
     "text": [
      " -----    -----    -----      -      -----   \n",
      "|     |  |     |  |     |    | |    |     |  \n",
      "|     |  |        |         |   |   |     |  \n",
      "|     |   -----   |        |     |  |-----   \n",
      "|     |        |  |        |-----|  |   |    \n",
      "|     |  |     |  |     |  |     |  |    |   \n",
      " -----    -----    -----   -     -  -     -  \n",
      "\n",
      "...combining (and extending) ANTIC, GAP, Polymake and Singular\n",
      "Version\u001b[32m 0.9.0-DEV \u001b[39m... \n",
      " ... which comes with absolutely no warranty whatsoever\n",
      "Type: '?Oscar' for more information\n",
      "(c) 2019-2022 by The Oscar Development Team\n"
     ]
    }
   ],
   "source": [
    "using Oscar\n"
   ]
  },
  {
   "cell_type": "code",
   "execution_count": 14,
   "metadata": {},
   "outputs": [
    {
     "data": {
      "text/html": [
       "$x^{2} + 1$"
      ],
      "text/latex": [
       "x^{2} + 1"
      ],
      "text/plain": [
       "x^2 + 1"
      ]
     },
     "execution_count": 14,
     "metadata": {},
     "output_type": "execute_result"
    }
   ],
   "source": [
    "R, x = PolynomialRing(QQ, \"x\", cached=false)\n",
    "p = x^2 + 1\n",
    "\n"
   ]
  },
  {
   "cell_type": "code",
   "execution_count": 24,
   "metadata": {},
   "outputs": [
    {
     "data": {
      "text/html": [
       "$x^{2} + 1$"
      ],
      "text/latex": [
       "x^{2} + 1"
      ],
      "text/plain": [
       "x^2 + 1"
      ]
     },
     "execution_count": 24,
     "metadata": {},
     "output_type": "execute_result"
    }
   ],
   "source": [
    "filename = joinpath(@__DIR__, \"polynomial_QQ.uv\")\n",
    "save(p, filename)\n",
    "p_load = load(filename)\n"
   ]
  },
  {
   "cell_type": "markdown",
   "metadata": {},
   "source": [
    "Creating the polynomial ring with cached set to false means that these two polynomials are not comparable. This would be the case if the session saving p was closed, then reopening as a new session and loading p, ... being able to input Ring ..."
   ]
  },
  {
   "cell_type": "code",
   "execution_count": 27,
   "metadata": {},
   "outputs": [
    {
     "data": {
      "text/html": [
       "$y^{3} - 2i$"
      ],
      "text/latex": [
       "y^{3} - 2 i"
      ],
      "text/plain": [
       "y^3 - 2*i"
      ]
     },
     "execution_count": 27,
     "metadata": {},
     "output_type": "execute_result"
    }
   ],
   "source": [
    "F, i = NumberField(p, \"i\")\n",
    "Fy, y = F[\"y\"]\n",
    "q = y^3 - i * 2\n"
   ]
  },
  {
   "cell_type": "code",
   "execution_count": 32,
   "metadata": {},
   "outputs": [
    {
     "data": {
      "text/html": [
       "$y^{3} - 2i$"
      ],
      "text/latex": [
       "y^{3} - 2 i"
      ],
      "text/plain": [
       "y^3 - 2*i"
      ]
     },
     "execution_count": 32,
     "metadata": {},
     "output_type": "execute_result"
    }
   ],
   "source": [
    "filename = joinpath(@__DIR__, \"polynomial_QQSE.uv\")\n",
    "save(q, filename)\n",
    "q_load = load(filename)"
   ]
  },
  {
   "cell_type": "code",
   "execution_count": 47,
   "metadata": {},
   "outputs": [
    {
     "data": {
      "text/plain": [
       "2-element Vector{AbstractAlgebra.Generic.Poly{Hecke.NfRelElem{nf_elem}}}:\n",
       " t^2 - 5*a\n",
       " t^3 + 51*a"
      ]
     },
     "execution_count": 47,
     "metadata": {},
     "output_type": "execute_result"
    }
   ],
   "source": [
    "K, a = NumberField(q, \"a\")\n",
    "Kt, t = K[\"t\"]\n",
    "r = t^2 - a * 5\n",
    "s = t^3 + a * 51\n",
    "filename = joinpath(@__DIR__, \"vector_polynomials_QQTE.uv\")\n",
    "save([r, s], filename)\n",
    "polynomials = load(filename)"
   ]
  },
  {
   "cell_type": "code",
   "execution_count": 53,
   "metadata": {},
   "outputs": [
    {
     "data": {
      "text/html": [
       "α1*w - α2*u"
      ],
      "text/latex": [
       "\\mathop{\\mathrm{{\\alpha}1}} w - \\mathop{\\mathrm{{\\alpha}2}} u"
      ],
      "text/plain": [
       "α1*w - α2*u"
      ]
     },
     "execution_count": 53,
     "metadata": {},
     "output_type": "execute_result"
    }
   ],
   "source": [
    "L, α = NumberField(polynomials, \"α\")\n",
    "Lwu, (w, u) = L[\"w\", \"u\"]\n",
    "h = α[1] * w - α[2] * u\n",
    "\n",
    "\n",
    "     "
   ]
  },
  {
   "cell_type": "code",
   "execution_count": 54,
   "metadata": {},
   "outputs": [
    {
     "ename": "LoadError",
     "evalue": "UndefRefError: access to undefined reference",
     "output_type": "error",
     "traceback": [
      "UndefRefError: access to undefined reference",
      "",
      "Stacktrace:",
      "  [1] save_internal(s::Oscar.SerializerState, obj::NfRelNS{Hecke.NfRelElem{nf_elem}})",
      "    @ Oscar /home/datastore/vecchia/repositories/Oscar.jl/src/Serialization/main.jl:185",
      "  [2] save_type_dispatch(s::Oscar.SerializerState, obj::NfRelNS{Hecke.NfRelElem{nf_elem}})",
      "    @ Oscar /home/datastore/vecchia/repositories/Oscar.jl/src/Serialization/main.jl:118",
      "  [3] save_internal(s::Oscar.SerializerState, R::AbstractAlgebra.Generic.MPolyRing{Hecke.NfRelNSElem{Hecke.NfRelElem{nf_elem}}})",
      "    @ Oscar /home/datastore/vecchia/repositories/Oscar.jl/src/Serialization/Rings.jl:19",
      "  [4] save_type_dispatch(s::Oscar.SerializerState, obj::AbstractAlgebra.Generic.MPolyRing{Hecke.NfRelNSElem{Hecke.NfRelElem{nf_elem}}})",
      "    @ Oscar /home/datastore/vecchia/repositories/Oscar.jl/src/Serialization/main.jl:118",
      "  [5] save_internal(s::Oscar.SerializerState, p::AbstractAlgebra.Generic.MPoly{Hecke.NfRelNSElem{Hecke.NfRelElem{nf_elem}}})",
      "    @ Oscar /home/datastore/vecchia/repositories/Oscar.jl/src/Serialization/Rings.jl:42",
      "  [6] save_type_dispatch(s::Oscar.SerializerState, obj::AbstractAlgebra.Generic.MPoly{Hecke.NfRelNSElem{Hecke.NfRelElem{nf_elem}}})",
      "    @ Oscar /home/datastore/vecchia/repositories/Oscar.jl/src/Serialization/main.jl:118",
      "  [7] save(obj::AbstractAlgebra.Generic.MPoly{Hecke.NfRelNSElem{Hecke.NfRelElem{nf_elem}}}, filename::String)",
      "    @ Oscar /home/datastore/vecchia/repositories/Oscar.jl/src/Serialization/main.jl:211",
      "  [8] top-level scope",
      "    @ In[54]:2",
      "  [9] eval",
      "    @ ./boot.jl:360 [inlined]",
      " [10] include_string(mapexpr::typeof(REPL.softscope), mod::Module, code::String, filename::String)",
      "    @ Base ./loading.jl:1116"
     ]
    }
   ],
   "source": [
    "filename = joinpath(@__DIR__, \"polynomial_QQNSE.Mv\")\n",
    "save(h, filename)\n",
    "load(filename)"
   ]
  }
 ],
 "metadata": {
  "kernelspec": {
   "display_name": "Julia 1.6.3",
   "language": "julia",
   "name": "julia-1.6"
  },
  "language_info": {
   "file_extension": ".jl",
   "mimetype": "application/julia",
   "name": "julia",
   "version": "1.6.3"
  }
 },
 "nbformat": 4,
 "nbformat_minor": 2
}
