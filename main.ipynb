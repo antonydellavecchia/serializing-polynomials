{
 "cells": [
  {
   "cell_type": "code",
   "execution_count": 6,
   "metadata": {},
   "outputs": [],
   "source": [
    "using Oscar\n"
   ]
  },
  {
   "cell_type": "markdown",
   "metadata": {},
   "source": [
    " # Polynomials with Coefficients in Extensions of Q"
   ]
  },
  {
   "cell_type": "code",
   "execution_count": 7,
   "metadata": {},
   "outputs": [
    {
     "data": {
      "text/html": [
       "$x^{2} + 1$"
      ],
      "text/latex": [
       "x^{2} + 1"
      ],
      "text/plain": [
       "x^2 + 1"
      ]
     },
     "execution_count": 7,
     "metadata": {},
     "output_type": "execute_result"
    }
   ],
   "source": [
    "R, x = PolynomialRing(QQ, \"x\", cached=false)\n",
    "p = x^2 + 1\n",
    "\n"
   ]
  },
  {
   "cell_type": "code",
   "execution_count": 8,
   "metadata": {},
   "outputs": [
    {
     "data": {
      "text/html": [
       "$x^{2} + 1$"
      ],
      "text/latex": [
       "x^{2} + 1"
      ],
      "text/plain": [
       "x^2 + 1"
      ]
     },
     "execution_count": 8,
     "metadata": {},
     "output_type": "execute_result"
    }
   ],
   "source": [
    "filename = joinpath(@__DIR__, \"polynomial_QQ.uv\")\n",
    "save(p, filename)\n",
    "p_load = load(filename)\n"
   ]
  },
  {
   "cell_type": "markdown",
   "metadata": {},
   "source": [
    "Creating the polynomial ring with cached set to false means that these two polynomials are not comparable. This would be the case if the session saving p was closed, then reopening as a new session and loading p, ... being able to input Ring ..."
   ]
  },
  {
   "cell_type": "code",
   "execution_count": 9,
   "metadata": {},
   "outputs": [
    {
     "data": {
      "text/html": [
       "$y^{3} - 2i$"
      ],
      "text/latex": [
       "y^{3} - 2 i"
      ],
      "text/plain": [
       "y^3 - 2*i"
      ]
     },
     "execution_count": 9,
     "metadata": {},
     "output_type": "execute_result"
    }
   ],
   "source": [
    "F, i = NumberField(p, \"i\")\n",
    "Fy, y = F[\"y\"]\n",
    "q = y^3 - i * 2\n"
   ]
  },
  {
   "cell_type": "code",
   "execution_count": 10,
   "metadata": {},
   "outputs": [
    {
     "data": {
      "text/html": [
       "$y^{3} - 2i$"
      ],
      "text/latex": [
       "y^{3} - 2 i"
      ],
      "text/plain": [
       "y^3 - 2*i"
      ]
     },
     "execution_count": 10,
     "metadata": {},
     "output_type": "execute_result"
    }
   ],
   "source": [
    "filename = joinpath(@__DIR__, \"polynomial_QQSE.uv\")\n",
    "save(q, filename)\n",
    "q_load = load(filename)"
   ]
  },
  {
   "cell_type": "code",
   "execution_count": 14,
   "metadata": {},
   "outputs": [
    {
     "data": {
      "text/plain": [
       "2-element Vector{AbstractAlgebra.Generic.Poly{Hecke.NfRelElem{nf_elem}}}:\n",
       " t^2 - 5*a\n",
       " t^3 + 51*a"
      ]
     },
     "execution_count": 14,
     "metadata": {},
     "output_type": "execute_result"
    }
   ],
   "source": [
    "K, a = NumberField(q, \"a\")\n",
    "Kt, t = K[\"t\"]\n",
    "r = t^2 - a * 5\n",
    "s = t^3 + a * 51\n",
    "filename = joinpath(@__DIR__, \"vector_polynomials_QQSE.uv\")\n",
    "save([r, s], filename)\n",
    "polynomials = load(filename)"
   ]
  },
  {
   "cell_type": "code",
   "execution_count": 15,
   "metadata": {},
   "outputs": [
    {
     "data": {
      "text/html": [
       "α1*w - α2*u"
      ],
      "text/latex": [
       "\\mathop{\\mathrm{{\\alpha}1}} w - \\mathop{\\mathrm{{\\alpha}2}} u"
      ],
      "text/plain": [
       "α1*w - α2*u"
      ]
     },
     "execution_count": 15,
     "metadata": {},
     "output_type": "execute_result"
    }
   ],
   "source": [
    "L, α = NumberField(polynomials, \"α\")\n",
    "Lwu, (w, u) = L[\"w\", \"u\"]\n",
    "h = α[1] * w - α[2] * u\n",
    "\n",
    "\n",
    "     "
   ]
  },
  {
   "cell_type": "code",
   "execution_count": 16,
   "metadata": {},
   "outputs": [
    {
     "data": {
      "text/html": [
       "_$1*w - _$2*u"
      ],
      "text/latex": [
       "\\mathop{\\mathrm{\\_$1}} w - \\mathop{\\mathrm{\\_$2}} u"
      ],
      "text/plain": [
       "_$1*w - _$2*u"
      ]
     },
     "execution_count": 16,
     "metadata": {},
     "output_type": "execute_result"
    }
   ],
   "source": [
    "filename = joinpath(@__DIR__, \"polynomial_QQNSE.Mv\")\n",
    "save(h, filename)\n",
    "load(filename)"
   ]
  },
  {
   "cell_type": "markdown",
   "metadata": {},
   "source": [
    "# Polynomials with Coefficients in Finite Fields"
   ]
  },
  {
   "cell_type": "code",
   "execution_count": 17,
   "metadata": {},
   "outputs": [
    {
     "data": {
      "text/plain": [
       "Integers modulo 7"
      ]
     },
     "execution_count": 17,
     "metadata": {},
     "output_type": "execute_result"
    }
   ],
   "source": [
    "F = ResidueRing(ZZ, 7)"
   ]
  },
  {
   "cell_type": "code",
   "execution_count": 21,
   "metadata": {},
   "outputs": [
    {
     "data": {
      "text/html": [
       "$x^{2} + 2x + 3$"
      ],
      "text/latex": [
       "x^{2} + 2 x + 3"
      ],
      "text/plain": [
       "x^2 + 2*x + 3"
      ]
     },
     "execution_count": 21,
     "metadata": {},
     "output_type": "execute_result"
    }
   ],
   "source": [
    "Fx, x = F[\"x\"]\n",
    "p = x^2 + 2x + 3"
   ]
  },
  {
   "cell_type": "code",
   "execution_count": 22,
   "metadata": {},
   "outputs": [
    {
     "data": {
      "text/html": [
       "$x^{2} + 2x + 3$"
      ],
      "text/latex": [
       "x^{2} + 2 x + 3"
      ],
      "text/plain": [
       "x^2 + 2*x + 3"
      ]
     },
     "execution_count": 22,
     "metadata": {},
     "output_type": "execute_result"
    }
   ],
   "source": [
    "filename = joinpath(@__DIR__, \"polynomial_FF.uv\")\n",
    "save(p, filename)\n",
    "load(filename)"
   ]
  },
  {
   "cell_type": "code",
   "execution_count": 41,
   "metadata": {},
   "outputs": [
    {
     "data": {
      "text/html": [
       "(5*a + 4)*y + 6*a*z"
      ],
      "text/latex": [
       "\\left(5 a + 4\\right) y + 6 a z"
      ],
      "text/plain": [
       "(5*a + 4)*y + 6*a*z"
      ]
     },
     "execution_count": 41,
     "metadata": {},
     "output_type": "execute_result"
    }
   ],
   "source": [
    "K, a = FiniteField(p, \"a\")\n",
    "Kyz, (y, z) = K[\"y\", \"z\"]\n",
    "q = a^2 * y - a * z"
   ]
  },
  {
   "cell_type": "code",
   "execution_count": 42,
   "metadata": {},
   "outputs": [
    {
     "data": {
      "text/html": [
       "(5*o + 4)*y + 6*o*z"
      ],
      "text/latex": [
       "\\left(5 o + 4\\right) y + 6 o z"
      ],
      "text/plain": [
       "(5*o + 4)*y + 6*o*z"
      ]
     },
     "execution_count": 42,
     "metadata": {},
     "output_type": "execute_result"
    }
   ],
   "source": [
    "filename = joinpath(@__DIR__, \"polynomial_FF.mv\")\n",
    "save(q, filename)\n",
    "load(filename)"
   ]
  },
  {
   "cell_type": "code",
   "execution_count": null,
   "metadata": {},
   "outputs": [],
   "source": [
    "symbol(K)"
   ]
  },
  {
   "cell_type": "code",
   "execution_count": null,
   "metadata": {},
   "outputs": [],
   "source": []
  }
 ],
 "metadata": {
  "kernelspec": {
   "display_name": "Julia 1.6.3",
   "language": "julia",
   "name": "julia-1.6"
  },
  "language_info": {
   "file_extension": ".jl",
   "mimetype": "application/julia",
   "name": "julia",
   "version": "1.6.3"
  }
 },
 "nbformat": 4,
 "nbformat_minor": 2
}
